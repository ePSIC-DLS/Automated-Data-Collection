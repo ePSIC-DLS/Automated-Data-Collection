{
 "cells": [
  {
   "cell_type": "markdown",
   "metadata": {},
   "source": "# Introduction"
  },
  {
   "cell_type": "markdown",
   "metadata": {},
   "source": "## Summary\n***\n  In recent years, there is an increasing demand to automatically control from \nTEM control to acquisition of images, and to control the TEM remotely. \nUntil now, it was necessary to organize programs using TEM external control \n(TEMExt) written in C ++, but there are problems such as the high level of \nhurdling to create programs in C ++ language and few functions available in TEMExt had.  \n PyJEM solved these problems. Since PyJEM is a python library, \nwe can interactively control TEM. \nIn addition, functions available from existing TEMExt are powered up, enabling remote control.\n"
  },
  {
   "cell_type": "markdown",
   "metadata": {},
   "source": "## Environment\n***\n### OS\n* Windows&reg; 7 64bit \n* Windows&reg; 10 64bit \n\n### Python version\n * Python 3.5 64bit\n * Python 3.7 64bit\n * Python 3.8 64bit\n \n### Relative library\n * opencv-python\n * httplib2\n * pycryptodome\n"
  },
  {
   "cell_type": "markdown",
   "metadata": {},
   "source": "## Functions\n***\n You can use the existing TEM External(TEM3) published by JEOL and control the detector. \n Below is an example of the functionality. \n \n### Electronic optical system control\n* Beam control\n* magnification change\n* brightness change \n* etc.. \n\n### Stage control\n* Absolute position movement\n* Relative position movement\n* Piezoelectric movement\n* etc..\n\n### detector control\n* capture image by JEOL camera and STEM detector.\n* hardware insert / retract.\n* change mage storage type\n* Change of imaging conditions\n* etc..\n\n### Auto function\nCall functions available in the TEM Center. \n\n* Auto Focus\n* Auto Contrast Brightness\n* Auto Stigmator\n* etc.."
  },
  {
   "cell_type": "markdown",
   "metadata": {},
   "source": "## Connection model\n***\nYou can use Python environment on TEM PC or another PC and use it on PC which installed \nPyJEM (python library). When you execute the script code including PyJEM, \nprocessing is thrown to TEM main unit via TEMCenter.\n\n![](image/pyjem_rest.png)\n\n### TEMPC\nThe figure below shows the communication model when PyJEM is on the TEMPC. Since the communication is between the same, the IP address will be 127.0.0.1. \n\n![](image/PyJEM_in_TEMPC.png)\n\n### RemotePC\nIt is a model that builds a PyJEM environment on a PC other than TEMPC and controls TEM. \nIt is possible to write python script code with NotePC (etc.) and execute it with Remote. \nWhen executing from a remote place, work such as having the TEM connected to the in-house LAN etc. may be necessary.\n\n![TEMPC](image/PyJEM_in_OtherPC.png)\n"
  },
  {
   "cell_type": "markdown",
   "metadata": {},
   "source": "## Forum (Message Board)\n***\nPublish the sharing place(Forum) about PyJEM to GitHub. \nTo use Forum, you need a GitHub account. In this Forum, you can share script code, \nexchange information, and browse. From JEOL, \nwe will publish manuals such as how to use PyJEM and answer questions about PyJEM.\n\nPyJEM Forum URL：\n　[PyJEM Forum](https://github.com/PyJEM)"
  }
 ],
 "metadata": {
  "kernelspec": {
   "display_name": "Python 3 (ipykernel)",
   "language": "python",
   "name": "python3"
  },
  "language_info": {
   "codemirror_mode": {
    "name": "ipython",
    "version": 3
   },
   "file_extension": ".py",
   "mimetype": "text/x-python",
   "name": "python",
   "nbconvert_exporter": "python",
   "pygments_lexer": "ipython3",
   "version": "3.8.10"
  }
 },
 "nbformat": 4,
 "nbformat_minor": 1
}
