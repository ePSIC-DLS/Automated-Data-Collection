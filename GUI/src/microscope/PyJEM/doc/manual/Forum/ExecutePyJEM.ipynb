{
 "cells": [
  {
   "cell_type": "markdown",
   "metadata": {},
   "source": "# Execute PyJEM\n"
  },
  {
   "cell_type": "markdown",
   "metadata": {},
   "source": "## Online\nYou can control the TEM connected to PyJEM.\n\n**Pre-conditions**\n* TEMCenter is running"
  },
  {
   "cell_type": "markdown",
   "metadata": {},
   "source": "### TEM3 (Package)\n\nTEM3 is a package that can control TEM such as Aperture, Gun, Lens etc  \nBelow is an initial process for using TEM3 package and an example of simple usage.\n\n#### Load package\nFirst, execute import TEM3.  \nStart python and enter \"from PyJEM import TEM3\" on the command line.\n\n```python \n>>> from PyJEM import TEM3\nReady Communication\n```\n* If import successful, it displays * Ready Communication * as a print statement. (It may not be displayed in Ipython)\n* If import fails, it displays * Not Ready Communication * as a print statement. (It may not be displayed in Ipython)\n\n#### Get magnification information\nAs an example using the TEM3 package, we will show you how to get the magnification of the TEM unit.\n\n```python\n>>> eos = TEM3.EOS3()\n>>> eos.GetTemStemMode()\n```\nIn the first line of the above CommandLine, an instance of a class that controls EOS of TEM3 is created.  \nThe second line gets the current magnification.\n"
  },
  {
   "cell_type": "markdown",
   "metadata": {},
   "source": "### detector (Package)\ndetector setting package  \nto link here  \n\nIn the detector package, you can get and set detector conditions, \nacquire images, execute Auto functions, and so on.\n\n#### load detector package\nFirst, execute import detector.\nStart python and enter \"from PyJEM import detector\" on the command line.\n\n```python\n>>> from PyJEM import detector\n0 : STEM DF\n1 : STEM BF\n2 : NONE  \n```\n\nIn the same way as the offline version.   \nIf import succeeds, it displays a list of detectors that can be controlled by detector package.\nThis is a display of the **detector name** which can be controlled to the variable of list type at the time of import. \nThe left number is the element number of target detector.\n\nThe name of the detector to be displayed may change depending on TEM unit.\n\nExample of execution:\n\n![](image/import_detector_online.gif)\n\n#### Get detector condition\nAs an example using the detector package, we will show you how to get the targeted detector condition.\n\n``` python\n>>>det = detector.Detector(\"STEM DF\")\nSTEM DF is Correct!\n>>>det.get_detectorsetting()\n```\nIn the first line of the above CommandLine, \nwe create instances of detectors for which detector information is to be acquired.  \nIn the above CommandLine, for example, the target detector name is STEM DF. \nPlease enter the detector name you want to target in Detector ().  \nIf a detector name controllable by PyJEM is entered, * detector name * is Correct!\nWill be displayed.  \nGet the state of the detector specified in the second line.\n\nExample of execution:\n \n![](image/detector_get_setting_online.gif)\n\n#### How to execute sample code\n1. Start Spyder.\n2. Use IPython Console in Spyder to get the PyJEM folder path.\n```python\n    >>>import PyJEM\n    >>>PyJEM.__path__\n```\n\n3. After acquiring the PyJEM folder path, paste it on the red frame below.\n\n![](image/spyder_UI_folder_select.png)\n\n4. Click [sample] in the red frame.\n\n![](image/spyder_UI_samplepath.png)\n\n5. Click to display the sample file, so double click on the file you want to execute.\n\n6. The source code of the clicked file is displayed in the red frame.\n\n![](image/sample_emission_execute.png)\n\n7. Click the [Run file] button.\n\n![](image/spyder_UI_runbuttun.png)"
  },
  {
   "cell_type": "markdown",
   "metadata": {},
   "source": "## Offline\nBefore moving the TEM in the online version, \nit was created to check what kind of movement the created source code performs and \nto check the behavior in the absence of the device.  \nAll functions available in the online version can be used offline.  \nAlso, it may differ from the actual behavior of TEM."
  },
  {
   "cell_type": "markdown",
   "metadata": {},
   "source": "### TEM3 (Package)\nIn PyJEM.TEM3, you can use the functions divided by TEM3 class such as Aperture, Gun, Lens etc.\n\n#### load TEM3 (package)\n```python\n>>> from PyJEM.offline import TEM3\nReady Communication\n```\n\n#### Get magnification information\n```python\n>>> eos = TEM3.EOS3()\n>>> eos.GetMagValue()\n```\nIn the first line of the above CommandLine, an instance of a class that controls EOS of TEM3 is created.  \nThe second line gets the current magnification.\n\n"
  },
  {
   "cell_type": "markdown",
   "metadata": {},
   "source": "### detector (Package)\nWith PyJEM.detector, you can acquire and set detector conditions, acquire images, \nexecute Auto functions, and so on.\n\n#### load\n```python\n>>> from PyJEM.offline import detector\n0 : camera\n1 : STEM Image\n```\nIn the same way as the online version, \nthe detector names that can be controlled by import are displayed in the list print statement.  \nThis is a display of the **detector name** which can be controlled to the variable of list type at the time of import. \nThe number written on the left is the element number.\n\n#### Get detector condition\n```python \n>>> det = detector.Detector(\"STEM Image\")\nSTEM Image is Correct!\n>>> det.get_detectorsetting()\n```\nIn the first line of the above CommandLine, \nwe create instances of detectors for which detector information is to be acquired.  \nIn the above CommandLine, for example, the target detector name is STEM Image. \nPlease enter the detector name you want to target in Detector ().   \nIf a detector name controllable by PyJEM is entered, \"* detector name * is Correct!\" \nWill be displayed.  \nGet the state of the detector specified in the second line.\n"
  },
  {
   "cell_type": "code",
   "execution_count": null,
   "metadata": {
    "collapsed": true,
    "trusted": true
   },
   "outputs": [],
   "source": ""
  }
 ],
 "metadata": {
  "kernelspec": {
   "display_name": "Python 3",
   "language": "python",
   "name": "python3"
  },
  "language_info": {
   "codemirror_mode": {
    "name": "ipython",
    "version": 3
   },
   "file_extension": ".py",
   "mimetype": "text/x-python",
   "name": "python",
   "nbconvert_exporter": "python",
   "pygments_lexer": "ipython3",
   "version": "3.5.1"
  }
 },
 "nbformat": 4,
 "nbformat_minor": 0
}
